{
 "cells": [
  {
   "cell_type": "markdown",
   "metadata": {},
   "source": [
    "### Extending bidirectional attention for LLMs via ULLME. "
   ]
  },
  {
   "cell_type": "code",
   "execution_count": null,
   "metadata": {},
   "outputs": [],
   "source": [
    "from ullme.models import ULLME\n",
    "\n",
    "model = ULLME(\n",
    "            model_name_or_path=\"microsoft/phi-1_5\",\n",
    "            model_backbone_type=\"phi\",\n",
    "            )\n",
    "model.cuda()\n",
    "print(\"Model Architecture: \")\n",
    "print(model)"
   ]
  },
  {
   "cell_type": "markdown",
   "metadata": {},
   "source": [
    "We also support LoRA patching for parameter-effecient fine-tuning "
   ]
  },
  {
   "cell_type": "code",
   "execution_count": null,
   "metadata": {},
   "outputs": [],
   "source": [
    "from ullme.models import ULLME\n",
    "\n",
    "lora_model = ULLME(\n",
    "            model_name_or_path=\"microsoft/phi-1_5\",\n",
    "            model_backbone_type=\"phi\",\n",
    "            lora_name=\"ullme-phi\",\n",
    "            loar_r=16,\n",
    "            lora_alpha=32,\n",
    "            )\n",
    "lora_model.cuda()\n",
    "print(\"Model Architecture: \")\n",
    "print(lora_model)"
   ]
  },
  {
   "cell_type": "markdown",
   "metadata": {},
   "source": [
    "Compute sequence representaion with Bidirectional Extended LLMs"
   ]
  },
  {
   "cell_type": "code",
   "execution_count": null,
   "metadata": {},
   "outputs": [],
   "source": [
    "input_sentence = \"This a example sentence.\"\n",
    "model_inputs = model.tokenizer(\n",
    "                            [input_sentence],\n",
    "                            return_tensors='pt'\n",
    "                            )\n",
    "model_output = model(\n",
    "                    input_ids=model_inputs['input_ids'].cuda(),\n",
    "                    attention_mask=model_inputs['attention_mask'].cuda(),\n",
    "                    is_generate=False\n",
    "                    )\n",
    "reps = model_output['reps']\n",
    "print(\"Reps Shape: \", reps.shape)\n",
    "print(\"Reps: \", reps)"
   ]
  },
  {
   "cell_type": "markdown",
   "metadata": {},
   "source": [
    "### Evaluation MTEB dataset via ULLME."
   ]
  },
  {
   "cell_type": "markdown",
   "metadata": {},
   "source": [
    "Here, we support almost LLM models available in HF. For example, we try to use top1 model in MTEB (dunzhang/stella_en_1.5B_v5)"
   ]
  },
  {
   "cell_type": "code",
   "execution_count": null,
   "metadata": {},
   "outputs": [],
   "source": [
    "from ullme.models import WrappedULLME\n",
    "from ullme.eval import eval_mteb_dataset\n",
    "\n",
    "\n",
    "model = WrappedULLME(model_name_or_path='dunzhang/stella_en_1.5B_v5')\n",
    "print(\"Model Architecture: \")\n",
    "print(model)"
   ]
  },
  {
   "cell_type": "markdown",
   "metadata": {},
   "source": [
    "After loading the model, you need to select specific datasets and language subsets for evaluation. "
   ]
  },
  {
   "cell_type": "code",
   "execution_count": null,
   "metadata": {},
   "outputs": [],
   "source": [
    "eval_result = eval_mteb_dataset(\n",
    "                                model=model,\n",
    "                                dataset_name='ArguAna',\n",
    "                                langs=['eng'],\n",
    "                                )\n",
    "print(\"Eval Result: \", eval_result)"
   ]
  },
  {
   "cell_type": "markdown",
   "metadata": {},
   "source": [
    "### Fine-tune LLMs with ULLME"
   ]
  },
  {
   "cell_type": "markdown",
   "metadata": {},
   "source": [
    "We support various training strategies including Constrastive Loss, SFT, DPO and GRL. The following spinet inlustrate how to use ULLME for fine-tuning LLM for Dense Retrieval. "
   ]
  },
  {
   "cell_type": "markdown",
   "metadata": {},
   "source": [
    "``` python\n",
    "from ullme.trainer import GradCacheTrainer\n",
    "trainer = GradCacheTrainer(\n",
    "                            con_loss_type='NTXentLoss',\n",
    "                            gen_loss_type='sigmoid', # 'sft'\n",
    "                            use_kl_loss=True\n",
    "                            )\n",
    "trainer.fit_epoch(\n",
    "                model=model,\n",
    "                train_loader=train_dataloader,\n",
    "                )\n",
    "```"
   ]
  },
  {
   "cell_type": "markdown",
   "metadata": {},
   "source": [
    "Besides, ULLME also support GradCache, Cross-devices Constrastive loss, Multi-GPUs training, and orther rich features for further improve the training process. Please refer to the documentation and file ```ullme/train.py``` for further information. "
   ]
  }
 ],
 "metadata": {
  "language_info": {
   "name": "python"
  }
 },
 "nbformat": 4,
 "nbformat_minor": 2
}
